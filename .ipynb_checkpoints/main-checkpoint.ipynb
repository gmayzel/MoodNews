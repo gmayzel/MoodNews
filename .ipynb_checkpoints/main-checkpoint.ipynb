{
 "cells": [
  {
   "cell_type": "code",
   "execution_count": 1,
   "metadata": {
    "collapsed": true
   },
   "outputs": [],
   "source": [
    "#1 There are more positive tweets than negative\n",
    "#2 A measure of overeall mood in individual media sources is positive, except of NYTimes where sentiment is just slightly\n",
    "#  below 0.\n",
    "#3 I would assume people are cautiosly upbeat about state of affairs looking at plotted data."
   ]
  },
  {
   "cell_type": "code",
   "execution_count": 2,
   "metadata": {
    "collapsed": true
   },
   "outputs": [],
   "source": [
    "import json\n",
    "import datetime as dt\n",
    "import numpy as np\n",
    "import tweepy\n",
    "import apikeys\n",
    "import pandas as pd\n",
    "from vaderSentiment.vaderSentiment import SentimentIntensityAnalyzer\n",
    "import matplotlib.pyplot as plt\n",
    "import datetime as dt"
   ]
  },
  {
   "cell_type": "code",
   "execution_count": 3,
   "metadata": {
    "collapsed": true
   },
   "outputs": [],
   "source": [
    "analyzer = SentimentIntensityAnalyzer()\n",
    "\n",
    "consumer_key = apikeys.TWITTER_CONSUMER_KEY\n",
    "consumer_secret = apikeys.TWITTER_CONSUMER_SECRET\n",
    "access_token = apikeys.TWITTER_ACCESS_TOKEN\n",
    "access_token_secret = apikeys.TWITTER_ACCESS_TOKEN_SECRET"
   ]
  },
  {
   "cell_type": "code",
   "execution_count": 4,
   "metadata": {
    "collapsed": true
   },
   "outputs": [],
   "source": [
    "auth = tweepy.OAuthHandler(consumer_key, consumer_secret)\n",
    "auth.set_access_token(access_token, access_token_secret)\n",
    "api = tweepy.API(auth, parser=tweepy.parsers.JSONParser())"
   ]
  },
  {
   "cell_type": "code",
   "execution_count": 5,
   "metadata": {
    "collapsed": true
   },
   "outputs": [],
   "source": [
    "screen_name = []\n",
    "text = []\n",
    "timestamp = []\n",
    "symbol = []\n",
    "compound = []\n",
    "positive = []\n",
    "negative = []\n",
    "neutral = []\n",
    "tweet_index = []"
   ]
  },
  {
   "cell_type": "code",
   "execution_count": 6,
   "metadata": {
    "collapsed": true
   },
   "outputs": [],
   "source": [
    "tweeter_sources = [\"BBC\", \"CBS\", \"CNN\", \"Fox\", \"nytimes\"]"
   ]
  },
  {
   "cell_type": "code",
   "execution_count": 7,
   "metadata": {
    "collapsed": true
   },
   "outputs": [],
   "source": [
    "for tweeter_source in tweeter_sources:\n",
    "\n",
    "    tweets = api.user_timeline(tweeter_source, count = 100)\n",
    "    count = 0\n",
    "\n",
    "    for tweet in tweets:\n",
    "        screen_name.append(tweet[\"user\"][\"screen_name\"])\n",
    "        text.append(tweet[\"text\"])\n",
    "        timestamp.append(dt.datetime.strptime(tweet[\"created_at\"], \"%a %b %d %X %z %Y\").strftime(\"%b/%d/%Y\"))\n",
    "        tweet_index.append(count)\n",
    "        \n",
    "        scores = analyzer.polarity_scores(tweet[\"text\"])\n",
    "        comp = scores['compound']\n",
    "        pos = scores['pos']\n",
    "        neut = scores['neu']\n",
    "        neg = scores['neg']\n",
    "\n",
    "        compound.append(comp)\n",
    "        positive.append(pos)\n",
    "        negative.append(neg)\n",
    "        neutral.append(neut)\n",
    "        \n",
    "        count = count + 1\n",
    "    \n",
    "    tweeterDF = pd.DataFrame({'source':screen_name, 'text':text, 'timestamp':timestamp, 'tweet_index':tweet_index,\n",
    "                             'positive':positive, 'negative':negative, 'neutral':neutral, 'compound':compound})\n",
    "    tweeterDF = tweeterDF[['source', 'text', 'timestamp', 'compound', 'positive', 'negative', 'neutral', 'tweet_index']]\n",
    "tweeterDF.to_csv('tweeterData.csv')"
   ]
  },
  {
   "cell_type": "code",
   "execution_count": 8,
   "metadata": {
    "collapsed": true
   },
   "outputs": [],
   "source": [
    "bbc_df = tweeterDF[tweeterDF.source=='BBC']\n",
    "cbs_df = tweeterDF[tweeterDF.source=='CBS']\n",
    "cnn_df = tweeterDF[tweeterDF.source=='CNN']\n",
    "fox_df = tweeterDF[tweeterDF.source=='fox']\n",
    "nytimes_df = tweeterDF[tweeterDF.source=='nytimes']"
   ]
  },
  {
   "cell_type": "code",
   "execution_count": 9,
   "metadata": {
    "collapsed": true
   },
   "outputs": [],
   "source": [
    "bbc_handle = plt.scatter(bbc_df['tweet_index'], bbc_df['compound'], marker=\"o\", \n",
    "            facecolors=\"orange\", edgecolors=\"black\", label=\"BBC\", alpha=0.75)\n",
    "cbs_handle = plt.scatter(cbs_df['tweet_index'], cbs_df['compound'], marker=\"o\", \n",
    "            facecolors=\"green\", edgecolors=\"black\", label=\"CBS\", alpha=0.75)\n",
    "cnn_handle = plt.scatter(cnn_df['tweet_index'], cnn_df['compound'], marker=\"o\", \n",
    "            facecolors=\"blue\", edgecolors=\"black\", label=\"CNN\", alpha=0.75)\n",
    "fox_handle = plt.scatter(fox_df['tweet_index'], fox_df['compound'], marker=\"o\", \n",
    "            facecolors=\"red\", edgecolors=\"black\", label=\"FOX\", alpha=0.75)\n",
    "nytimes_handle = plt.scatter(nytimes_df['tweet_index'], nytimes_df['compound'], marker=\"o\", \n",
    "            facecolors=\"yellow\", edgecolors=\"black\", label=\"NYT\", alpha=0.75)"
   ]
  },
  {
   "cell_type": "code",
   "execution_count": 10,
   "metadata": {},
   "outputs": [
    {
     "data": {
      "text/plain": [
       "<matplotlib.legend.Legend at 0x5a825c0>"
      ]
     },
     "execution_count": 10,
     "metadata": {},
     "output_type": "execute_result"
    }
   ],
   "source": [
    "plt.title(\"Senitment Analysis of Media Tweets\" + \" (\" + dt.datetime.today().strftime(\"%m/%d/%Y\") + \")\")\n",
    "plt.xlabel(\"Tweets Ago\")\n",
    "plt.ylabel(\"Tweet Polarity\")\n",
    "plt.xlim(105, -25)\n",
    "plt.ylim(-1, 1)\n",
    "plt.grid()\n",
    "plt.legend(handles=[bbc_handle, cbs_handle, cnn_handle,fox_handle, nytimes_handle], loc=\"best\")"
   ]
  },
  {
   "cell_type": "code",
   "execution_count": 11,
   "metadata": {
    "collapsed": true
   },
   "outputs": [],
   "source": [
    "plt.savefig('Sentiment.png')"
   ]
  },
  {
   "cell_type": "code",
   "execution_count": 12,
   "metadata": {},
   "outputs": [
    {
     "data": {
      "image/png": "[encoded data removed]",
      "text/plain": [
       "<matplotlib.figure.Figure at 0xb7aa240>"
      ]
     },
     "metadata": {},
     "output_type": "display_data"
    }
   ],
   "source": [
    "plt.show()"
   ]
  },
  {
   "cell_type": "code",
   "execution_count": 13,
   "metadata": {},
   "outputs": [
    {
     "data": {
      "text/html": [
       "<div>\n",
       "<style>\n",
       "    .dataframe thead tr:only-child th {\n",
       "        text-align: right;\n",
       "    }\n",
       "\n",
       "    .dataframe thead th {\n",
       "        text-align: left;\n",
       "    }\n",
       "\n",
       "    .dataframe tbody tr th {\n",
       "        vertical-align: top;\n",
       "    }\n",
       "</style>\n",
       "<table border=\"1\" class=\"dataframe\">\n",
       "  <thead>\n",
       "    <tr style=\"text-align: right;\">\n",
       "      <th></th>\n",
       "      <th>source</th>\n",
       "      <th>compound</th>\n",
       "      <th>positive</th>\n",
       "      <th>negative</th>\n",
       "      <th>neutral</th>\n",
       "      <th>tweet_index</th>\n",
       "    </tr>\n",
       "  </thead>\n",
       "  <tbody>\n",
       "    <tr>\n",
       "      <th>0</th>\n",
       "      <td>BBC</td>\n",
       "      <td>0.170004</td>\n",
       "      <td>0.10496</td>\n",
       "      <td>0.04050</td>\n",
       "      <td>0.85452</td>\n",
       "      <td>49.5</td>\n",
       "    </tr>\n",
       "    <tr>\n",
       "      <th>1</th>\n",
       "      <td>CBS</td>\n",
       "      <td>0.374197</td>\n",
       "      <td>0.16005</td>\n",
       "      <td>0.00980</td>\n",
       "      <td>0.83015</td>\n",
       "      <td>49.5</td>\n",
       "    </tr>\n",
       "    <tr>\n",
       "      <th>2</th>\n",
       "      <td>CNN</td>\n",
       "      <td>0.010365</td>\n",
       "      <td>0.06298</td>\n",
       "      <td>0.06887</td>\n",
       "      <td>0.86817</td>\n",
       "      <td>49.5</td>\n",
       "    </tr>\n",
       "    <tr>\n",
       "      <th>3</th>\n",
       "      <td>fox</td>\n",
       "      <td>0.172390</td>\n",
       "      <td>0.13288</td>\n",
       "      <td>0.05468</td>\n",
       "      <td>0.81243</td>\n",
       "      <td>49.5</td>\n",
       "    </tr>\n",
       "    <tr>\n",
       "      <th>4</th>\n",
       "      <td>nytimes</td>\n",
       "      <td>-0.019544</td>\n",
       "      <td>0.08340</td>\n",
       "      <td>0.09006</td>\n",
       "      <td>0.82654</td>\n",
       "      <td>49.5</td>\n",
       "    </tr>\n",
       "  </tbody>\n",
       "</table>\n",
       "</div>"
      ],
      "text/plain": [
       "    source  compound  positive  negative  neutral  tweet_index\n",
       "0      BBC  0.170004   0.10496   0.04050  0.85452         49.5\n",
       "1      CBS  0.374197   0.16005   0.00980  0.83015         49.5\n",
       "2      CNN  0.010365   0.06298   0.06887  0.86817         49.5\n",
       "3      fox  0.172390   0.13288   0.05468  0.81243         49.5\n",
       "4  nytimes -0.019544   0.08340   0.09006  0.82654         49.5"
      ]
     },
     "execution_count": 13,
     "metadata": {},
     "output_type": "execute_result"
    }
   ],
   "source": [
    "barDF = tweeterDF.groupby('source').mean()\n",
    "barDF = barDF.reset_index()\n",
    "barDF"
   ]
  },
  {
   "cell_type": "code",
   "execution_count": 14,
   "metadata": {},
   "outputs": [
    {
     "data": {
      "text/plain": [
       "Text(0.5,1,'Overall media sentiment based on Twitter (12/10/2017)')"
      ]
     },
     "execution_count": 14,
     "metadata": {},
     "output_type": "execute_result"
    }
   ],
   "source": [
    "x_values = np.arange(len(tweeter_sources))\n",
    "plt.bar(x_values, barDF['compound'], align='center', color = \"blue\", alpha=0.75)\n",
    "plt.xticks(x_values, tweeter_sources)\n",
    "plt.ylim(-1, 1)\n",
    "plt.grid()\n",
    "plt.ylabel('Twitter Polarity')\n",
    "plt.title('Overall media sentiment based on Twitter' + \" (\" + dt.datetime.today().strftime(\"%m/%d/%Y\") + \")\")"
   ]
  },
  {
   "cell_type": "code",
   "execution_count": 15,
   "metadata": {
    "collapsed": true
   },
   "outputs": [],
   "source": [
    "plt.savefig('OverallSentiment.png')"
   ]
  },
  {
   "cell_type": "code",
   "execution_count": 16,
   "metadata": {},
   "outputs": [
    {
     "data": {
      "image/png": "[encoded data removed]",
      "text/plain": [
       "<matplotlib.figure.Figure at 0xb7bea20>"
      ]
     },
     "metadata": {},
     "output_type": "display_data"
    }
   ],
   "source": [
    "plt.show()"
   ]
  },
  {
   "cell_type": "code",
   "execution_count": null,
   "metadata": {
    "collapsed": true
   },
   "outputs": [],
   "source": []
  }
 ],
 "metadata": {
  "kernelspec": {
   "display_name": "Python [conda env:PythonData]",
   "language": "python",
   "name": "conda-env-PythonData-py"
  },
  "language_info": {
   "codemirror_mode": {
    "name": "ipython",
    "version": 3
   },
   "file_extension": ".py",
   "mimetype": "text/x-python",
   "name": "python",
   "nbconvert_exporter": "python",
   "pygments_lexer": "ipython3",
   "version": "3.6.3"
  }
 },
 "nbformat": 4,
 "nbformat_minor": 2
}
